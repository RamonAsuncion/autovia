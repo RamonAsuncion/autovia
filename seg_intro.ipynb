{
 "cells": [
  {
   "cell_type": "markdown",
   "id": "ddb591d9-2265-4e60-acb6-f80b0289c331",
   "metadata": {},
   "source": [
    "# Semantic Segmentation\n",
    "\n",
    "Semantic segmentation labels every pixel in an image to identify what it is, distinguishing objects by their class without differentiating between individual instances of the same class. [1] \n",
    "\n"
   ]
  },
  {
   "cell_type": "markdown",
   "id": "33ec8b5d-9168-4f8d-93b5-bf3aa37409f2",
   "metadata": {},
   "source": [
    "Let us begin with a simple 2 class semantic segmentation.\n",
    "We want to classify every pixel in an image as one of two classes.\n",
    "\n",
    "For this introductory demo, we will segment this image into cat and not cat."
   ]
  },
  {
   "cell_type": "markdown",
   "id": "8bbbaae2-3483-4f20-bd43-e92eb7ef3a08",
   "metadata": {},
   "source": [
    "## Imports"
   ]
  },
  {
   "cell_type": "code",
   "execution_count": 5,
   "id": "3c7da0bd-3029-4706-b2e7-c97c8bbfea1a",
   "metadata": {},
   "outputs": [],
   "source": [
    "import matplotlib.pyplot as plt\n",
    "import tensorflow as tf\n",
    "from tensorflow import keras\n",
    "\n",
    "%matplotlib inline\n",
    "%config InlineBackend.figure_format='retina'"
   ]
  },
  {
   "cell_type": "markdown",
   "id": "c1650c5f-a50e-4215-b1fd-f43ef685697a",
   "metadata": {},
   "source": [
    "## References\n",
    "\n",
    "1. [Complete guide to semantic segmentation by Vahagn Tumanyan](https://www.superannotate.com/blog/guide-to-semantic-segmentation#what-is-semantic-segmentation)\n",
    "2. [Image Classification vs Semantic Segmentation vs Instance Segmentation](https://nirmalamurali.medium.com/image-classification-vs-semantic-segmentation-vs-instance-segmentation-625c33a08d50)"
   ]
  },
  {
   "cell_type": "code",
   "execution_count": null,
   "id": "c793375e-98f8-4876-9c67-ce8e9996fe69",
   "metadata": {},
   "outputs": [],
   "source": []
  }
 ],
 "metadata": {
  "kernelspec": {
   "display_name": "Python 3",
   "language": "python",
   "name": "python3"
  },
  "language_info": {
   "codemirror_mode": {
    "name": "ipython",
    "version": 3
   },
   "file_extension": ".py",
   "mimetype": "text/x-python",
   "name": "python",
   "nbconvert_exporter": "python",
   "pygments_lexer": "ipython3",
   "version": "3.10.13"
  }
 },
 "nbformat": 4,
 "nbformat_minor": 5
}
